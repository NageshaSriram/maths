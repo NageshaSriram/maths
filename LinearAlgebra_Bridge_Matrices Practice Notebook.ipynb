{
 "cells": [
  {
   "cell_type": "markdown",
   "id": "59fde9c3",
   "metadata": {},
   "source": [
    "# Python Linear Algebra Bridge Notebook\n",
    "### Part 2: Matrices and Matrix Transformations\n",
    "This notebook covers matrices, matrix operations, and geometric transformations using Python (NumPy), with explanations, worked examples, and practice exercises."
   ]
  },
  {
   "cell_type": "markdown",
   "id": "9c1907dc",
   "metadata": {},
   "source": [
    "## 1. Matrices: Creation and Properties\n",
    "- Creating matrices (2x2, 3x3, rectangular)\n",
    "- Checking order (shape)\n",
    "- Indexing and slicing"
   ]
  },
  {
   "cell_type": "code",
   "execution_count": null,
   "id": "cac95397",
   "metadata": {},
   "outputs": [],
   "source": [
    "import numpy as np\n",
    "\n",
    "# Create matrices\n",
    "A = np.array([[1, 2], [3, 4]])\n",
    "B = np.array([[2, 0, 1], [1, 3, 4]])\n",
    "print(\"Matrix A (2x2):\\n\", A)\n",
    "print(\"Matrix B (2x3):\\n\", B)\n",
    "\n",
    "# Check order (shape)\n",
    "print(\"A shape:\", A.shape)\n",
    "print(\"B shape:\", B.shape)\n"
   ]
  },
  {
   "cell_type": "markdown",
   "id": "71fd49f6",
   "metadata": {},
   "source": [
    "#### **Exercises:**"
   ]
  },
  {
   "cell_type": "code",
   "execution_count": null,
   "id": "3f5c7114",
   "metadata": {},
   "outputs": [],
   "source": [
    "# EX1: Create a 3x2 matrix with any integers\n"
   ]
  },
  {
   "cell_type": "code",
   "execution_count": null,
   "id": "93567251",
   "metadata": {},
   "outputs": [],
   "source": [
    "# EX2: Print the shape and order of your matrix\n"
   ]
  },
  {
   "cell_type": "code",
   "execution_count": null,
   "id": "a67aa8ea",
   "metadata": {},
   "outputs": [],
   "source": [
    "# EX3: Slice the second column from your matrix\n"
   ]
  },
  {
   "cell_type": "markdown",
   "id": "f89f6996",
   "metadata": {},
   "source": [
    "## 2. Matrix Operations\n",
    "- Addition, subtraction\n",
    "- Matrix multiplication (dot)\n",
    "- Rectangular multiplication and order\n",
    "- Determinant, transpose, inverse\n",
    "- Invertibility check\n",
    "- Properties"
   ]
  },
  {
   "cell_type": "code",
   "execution_count": null,
   "id": "b67dab14",
   "metadata": {},
   "outputs": [],
   "source": [
    "C = np.array([[1, 2], [3, 4]])\n",
    "D = np.array([[5, 6], [7, 8]])\n",
    "\n",
    "# Addition and subtraction\n",
    "print(\"C + D =\\n\", C + D)\n",
    "print(\"C - D =\\n\", C - D)\n",
    "\n",
    "# Matrix multiplication\n",
    "E = np.dot(C, D)\n",
    "print(\"C x D =\\n\", E)\n",
    "\n",
    "# Rectangular multiplication\n",
    "F = np.array([[1, 2, 3], [4, 5, 6]])\n",
    "G = np.array([[1, 2], [3, 4], [5, 6]])\n",
    "print(\"F shape:\", F.shape, \", G shape:\", G.shape)\n",
    "print(\"F x G =\\n\", np.dot(F, G))\n",
    "\n",
    "# Determinant, transpose, inverse\n",
    "det_C = np.linalg.det(C)\n",
    "C_T = C.T\n",
    "C_inv = np.linalg.inv(C)\n",
    "print(\"det(C):\", det_C)\n",
    "print(\"C transpose:\\n\", C_T)\n",
    "print(\"C inverse:\\n\", C_inv)\n",
    "\n",
    "# Check invertibility\n",
    "is_invertible = np.linalg.det(C) != 0\n",
    "print(\"C is invertible:\", is_invertible)\n"
   ]
  },
  {
   "cell_type": "markdown",
   "id": "c079e6e9",
   "metadata": {},
   "source": [
    "#### **Exercises:**"
   ]
  },
  {
   "cell_type": "code",
   "execution_count": null,
   "id": "e41d3060",
   "metadata": {},
   "outputs": [],
   "source": [
    "# EX1: Add and subtract any two 2x2 matrices\n"
   ]
  },
  {
   "cell_type": "code",
   "execution_count": null,
   "id": "11303e49",
   "metadata": {},
   "outputs": [],
   "source": [
    "# EX2: Multiply a 2x3 and a 3x2 matrix\n"
   ]
  },
  {
   "cell_type": "code",
   "execution_count": null,
   "id": "f9b6c231",
   "metadata": {},
   "outputs": [],
   "source": [
    "# EX3: Compute the determinant and inverse of a 2x2 matrix\n"
   ]
  },
  {
   "cell_type": "markdown",
   "id": "c226704c",
   "metadata": {},
   "source": [
    "## 3. Matrix Transformations\n",
    "- Apply matrix to vector: identity, rotation, scale, shear\n",
    "- Visualize effect on vectors\n",
    "- Identify cases where magnitude/direction do not change"
   ]
  },
  {
   "cell_type": "code",
   "execution_count": null,
   "id": "69eed459",
   "metadata": {},
   "outputs": [],
   "source": [
    "import matplotlib.pyplot as plt\n",
    "\n",
    "# Identity transformation (no change)\n",
    "I = np.eye(2)\n",
    "v = np.array([2, 1])\n",
    "v_id = I @ v\n",
    "print(\"Identity transform:\", v_id)\n",
    "\n",
    "# Rotation matrix (90 deg counterclockwise)\n",
    "theta = np.pi/2  # 90 deg\n",
    "R = np.array([[np.cos(theta), -np.sin(theta)], [np.sin(theta), np.cos(theta)]])\n",
    "v_rot = R @ v\n",
    "print(\"Rotated v by 90 degrees:\", v_rot)\n",
    "\n",
    "# Scaling matrix\n",
    "S = np.array([[2, 0], [0, 0.5]])\n",
    "v_sca = S @ v\n",
    "print(\"Scaled v (x2 in x, x0.5 in y):\", v_sca)\n",
    "\n",
    "# Shear matrix\n",
    "H = np.array([[1, 1], [0, 1]])\n",
    "v_shear = H @ v\n",
    "print(\"Sheared v:\", v_shear)"
   ]
  },
  {
   "cell_type": "markdown",
   "id": "b1676060",
   "metadata": {},
   "source": [
    "#### **Exercises:**"
   ]
  },
  {
   "cell_type": "code",
   "execution_count": null,
   "id": "e4530f41",
   "metadata": {},
   "outputs": [],
   "source": [
    "# EX1: Apply a scaling transformation to any 2D vector\n"
   ]
  },
  {
   "cell_type": "code",
   "execution_count": null,
   "id": "b34c3138",
   "metadata": {},
   "outputs": [],
   "source": [
    "# EX2: Apply a shear transformation and plot the result\n"
   ]
  },
  {
   "cell_type": "code",
   "execution_count": null,
   "id": "a515067d",
   "metadata": {},
   "outputs": [],
   "source": [
    "# EX3: Try a rotation by 45 degrees on a 2D vector\n"
   ]
  }
 ],
 "metadata": {
  "language_info": {
   "name": "python"
  }
 },
 "nbformat": 4,
 "nbformat_minor": 5
}
