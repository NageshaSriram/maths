{
 "cells": [
  {
   "cell_type": "markdown",
   "id": "2f442bd7",
   "metadata": {},
   "source": [
    "# Python Linear Algebra Bridge Notebook\n",
    "### Part 3: Eigenvalues and Eigenvectors\n",
    "This notebook covers the basics of eigenvalues, eigenvectors, verification, and matrix diagonalization in Python (NumPy), with examples and practice exercises."
   ]
  },
  {
   "cell_type": "markdown",
   "id": "154769b6",
   "metadata": {},
   "source": [
    "## 1. Eigenvalues and Eigenvectors\n",
    "- Find eigenvalues and eigenvectors for a 2x2 matrix\n",
    "- Interpretation\n",
    "- Worked example"
   ]
  },
  {
   "cell_type": "code",
   "execution_count": null,
   "id": "5661e7f0",
   "metadata": {},
   "outputs": [],
   "source": [
    "import numpy as np\n",
    "\n",
    "# Example 2x2 matrix\n",
    "A = np.array([[2, 1], [1, 2]])\n",
    "eigvals, eigvecs = np.linalg.eig(A)\n",
    "print(\"Matrix A:\\n\", A)\n",
    "print(\"Eigenvalues:\", eigvals)\n",
    "print(\"Eigenvectors (as columns):\\n\", eigvecs)\n"
   ]
  },
  {
   "cell_type": "markdown",
   "id": "3645efc8",
   "metadata": {},
   "source": [
    "#### **Exercises:**"
   ]
  },
  {
   "cell_type": "code",
   "execution_count": null,
   "id": "975fbb2e",
   "metadata": {},
   "outputs": [],
   "source": [
    "# EX1: Find the eigenvalues and eigenvectors of [[3, 1], [1, 3]]\n"
   ]
  },
  {
   "cell_type": "code",
   "execution_count": null,
   "id": "416cf868",
   "metadata": {},
   "outputs": [],
   "source": [
    "# EX2: Try for [[4, 2], [1, 3]]\n"
   ]
  },
  {
   "cell_type": "code",
   "execution_count": null,
   "id": "0fcec5eb",
   "metadata": {},
   "outputs": [],
   "source": [
    "# EX3: Try for [[1, 2], [2, 1]]\n"
   ]
  },
  {
   "cell_type": "markdown",
   "id": "89da8f93",
   "metadata": {},
   "source": [
    "## 2. Verification of Eigenvalue Property\n",
    "- Verify Av = λv for each eigenpair"
   ]
  },
  {
   "cell_type": "code",
   "execution_count": null,
   "id": "e4b16b76",
   "metadata": {},
   "outputs": [],
   "source": [
    "# Check for first eigenpair\n",
    "v = eigvecs[:, 0]\n",
    "lam = eigvals[0]\n",
    "print(\"A @ v =\", A @ v)\n",
    "print(\"λ * v =\", lam * v)\n",
    "print(\"Are they (almost) equal? \", np.allclose(A @ v, lam * v))\n",
    "\n",
    "# Check for second eigenpair\n",
    "v2 = eigvecs[:, 1]\n",
    "lam2 = eigvals[1]\n",
    "print(\"\\nA @ v2 =\", A @ v2)\n",
    "print(\"λ2 * v2 =\", lam2 * v2)\n",
    "print(\"Are they (almost) equal? \", np.allclose(A @ v2, lam2 * v2))\n"
   ]
  },
  {
   "cell_type": "markdown",
   "id": "f4766032",
   "metadata": {},
   "source": [
    "#### **Exercises:**"
   ]
  },
  {
   "cell_type": "code",
   "execution_count": null,
   "id": "6974aee0",
   "metadata": {},
   "outputs": [],
   "source": [
    "# EX1: Verify Av = λv for both eigenvectors in Exercise 1\n"
   ]
  },
  {
   "cell_type": "code",
   "execution_count": null,
   "id": "975ae5b7",
   "metadata": {},
   "outputs": [],
   "source": [
    "# EX2: Do the same for your matrix in Exercise 2\n"
   ]
  },
  {
   "cell_type": "code",
   "execution_count": null,
   "id": "b8c98697",
   "metadata": {},
   "outputs": [],
   "source": [
    "# EX3: Do the same for Exercise 3\n"
   ]
  },
  {
   "cell_type": "markdown",
   "id": "0bf2093a",
   "metadata": {},
   "source": [
    "## 3. Matrix Diagonalization\n",
    "- Express A as E D inv(E), where E is matrix of eigenvectors and D is diagonal matrix of eigenvalues"
   ]
  },
  {
   "cell_type": "code",
   "execution_count": null,
   "id": "6d40c34a",
   "metadata": {},
   "outputs": [],
   "source": [
    "E = eigvecs\n",
    "D = np.diag(eigvals)\n",
    "E_inv = np.linalg.inv(E)\n",
    "A_reconstructed = E @ D @ E_inv\n",
    "print(\"E (eigenvectors):\\n\", E)\n",
    "print(\"D (diagonal matrix of eigenvalues):\\n\", D)\n",
    "print(\"E_inv:\\n\", E_inv)\n",
    "print(\"A reconstructed from E D E⁻¹:\\n\", A_reconstructed)\n",
    "print(\"Is A same as reconstructed? \", np.allclose(A, A_reconstructed))\n"
   ]
  },
  {
   "cell_type": "markdown",
   "id": "058d44f2",
   "metadata": {},
   "source": [
    "#### **Exercises:**"
   ]
  },
  {
   "cell_type": "code",
   "execution_count": null,
   "id": "1c015aa0",
   "metadata": {},
   "outputs": [],
   "source": [
    "# EX1: Diagonalize your matrix from Exercise 1 and verify reconstruction\n"
   ]
  },
  {
   "cell_type": "code",
   "execution_count": null,
   "id": "2f568b62",
   "metadata": {},
   "outputs": [],
   "source": [
    "# EX2: Try the same for Exercise 2\n"
   ]
  },
  {
   "cell_type": "code",
   "execution_count": null,
   "id": "2e1bcd79",
   "metadata": {},
   "outputs": [],
   "source": [
    "# EX3: Try the same for Exercise 3\n"
   ]
  },
  {
   "cell_type": "markdown",
   "id": "ee2b2050",
   "metadata": {},
   "source": [
    "## 4. Bonus: Geometric Meaning\n",
    "- Try multiplying a vector by your matrix and see the effect\n",
    "- Which vectors are unchanged in direction?"
   ]
  },
  {
   "cell_type": "code",
   "execution_count": null,
   "id": "925b44f2",
   "metadata": {},
   "outputs": [],
   "source": [
    "# Pick any vector, try multiplying by A\n",
    "x = np.array([1, 1])\n",
    "print(\"A @ x =\", A @ x)\n",
    "\n",
    "# Try with eigenvector\n",
    "eigv = eigvecs[:, 0]\n",
    "print(\"A @ eigvec =\", A @ eigv, \"| scaled by λ:\", eigvals[0] * eigv)\n"
   ]
  },
  {
   "cell_type": "markdown",
   "id": "d1116e53",
   "metadata": {},
   "source": [
    "#### **Exercises:**"
   ]
  },
  {
   "cell_type": "code",
   "execution_count": null,
   "id": "20562e8c",
   "metadata": {},
   "outputs": [],
   "source": [
    "# EX1: Try your own example with another vector\n"
   ]
  },
  {
   "cell_type": "code",
   "execution_count": null,
   "id": "aba18d96",
   "metadata": {},
   "outputs": [],
   "source": [
    "# EX2: For each eigenvector, show what happens when you multiply by A\n"
   ]
  },
  {
   "cell_type": "code",
   "execution_count": null,
   "id": "cdf11ffb",
   "metadata": {},
   "outputs": [],
   "source": [
    "# EX3: Visualize (optional): Plot original and transformed vectors\n"
   ]
  }
 ],
 "metadata": {},
 "nbformat": 4,
 "nbformat_minor": 5
}
