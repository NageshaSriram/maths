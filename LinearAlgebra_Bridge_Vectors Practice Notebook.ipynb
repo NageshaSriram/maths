{
 "cells": [
  {
   "cell_type": "markdown",
   "id": "5dc4f8f8",
   "metadata": {},
   "source": [
    "# Python Linear Algebra Bridge Notebook\n",
    "### Part 1: Arrays and Vectors\n",
    "This notebook covers Python (NumPy) basics for arrays and vectors, with explanations, worked examples, and practice exercises."
   ]
  },
  {
   "cell_type": "markdown",
   "id": "0c206bfb",
   "metadata": {},
   "source": [
    "## 1. Arrays\n",
    "- Creating arrays\n",
    "- Checking dimensionality\n",
    "- Indexing and slicing\n",
    "- Convert lists to arrays"
   ]
  },
  {
   "cell_type": "code",
   "execution_count": 1,
   "id": "8803aa69",
   "metadata": {},
   "outputs": [
    {
     "name": "stdout",
     "output_type": "stream",
     "text": [
      "1D array: [1 2 3]\n",
      "2D array:\n",
      " [[1 2]\n",
      " [3 4]]\n",
      "arr1 shape: (3,) | ndim: 1\n",
      "arr2 shape: (2, 2) | ndim: 2\n",
      "Converted from list: [5 6 7]\n"
     ]
    }
   ],
   "source": [
    "import numpy as np\n",
    "\n",
    "# Create arrays\n",
    "arr1 = np.array([1, 2, 3])\n",
    "arr2 = np.array([[1, 2], [3, 4]])\n",
    "print(\"1D array:\", arr1)\n",
    "print(\"2D array:\\n\", arr2)\n",
    "\n",
    "# Check dimensionality\n",
    "print(\"arr1 shape:\", arr1.shape, \"| ndim:\", arr1.ndim)\n",
    "print(\"arr2 shape:\", arr2.shape, \"| ndim:\", arr2.ndim)\n",
    "\n",
    "# Convert list to array\n",
    "lst = [5, 6, 7]\n",
    "arr3 = np.array(lst)\n",
    "print(\"Converted from list:\", arr3)\n"
   ]
  },
  {
   "cell_type": "markdown",
   "id": "4f764aba",
   "metadata": {},
   "source": [
    "#### **Exercises:**"
   ]
  },
  {
   "cell_type": "code",
   "execution_count": 7,
   "id": "51aa4a5e",
   "metadata": {},
   "outputs": [
    {
     "data": {
      "text/plain": [
       "(3,)"
      ]
     },
     "execution_count": 7,
     "metadata": {},
     "output_type": "execute_result"
    }
   ],
   "source": [
    "# EX1: Create a 1D array with values 4, 5, 6\n",
    "arr_1d = np.array([1,2,4])\n",
    "arr_1d.shape"
   ]
  },
  {
   "cell_type": "code",
   "execution_count": 8,
   "id": "be9305d4",
   "metadata": {},
   "outputs": [
    {
     "data": {
      "text/plain": [
       "(2, 3)"
      ]
     },
     "execution_count": 8,
     "metadata": {},
     "output_type": "execute_result"
    }
   ],
   "source": [
    "# EX2: Create a 2D array (3x2) with any integers\n",
    "arr_2d = np.array([[1,2,3], [4,5,6]])\n",
    "arr_2d.shape"
   ]
  },
  {
   "cell_type": "code",
   "execution_count": 11,
   "id": "d67b348f",
   "metadata": {},
   "outputs": [
    {
     "name": "stdout",
     "output_type": "stream",
     "text": [
      "(2, 3)\n",
      "2\n"
     ]
    }
   ],
   "source": [
    "# EX3: For any array, print its shape and number of dimensions\n",
    "print(arr_2d.shape)\n",
    "print(arr_2d.ndim)"
   ]
  },
  {
   "cell_type": "markdown",
   "id": "143408f8",
   "metadata": {},
   "source": [
    "## 2. Vectors\n",
    "- Creating 2D/3D vectors\n",
    "- Magnitude (norm)\n",
    "- Unit vector\n",
    "- Vector addition, subtraction\n",
    "- Dot product\n",
    "- Angle between vectors\n",
    "- Orthogonality check\n",
    "- Scalar and vector projection"
   ]
  },
  {
   "cell_type": "code",
   "execution_count": 14,
   "id": "bd1fe5a9",
   "metadata": {},
   "outputs": [
    {
     "name": "stdout",
     "output_type": "stream",
     "text": [
      "Magnitude of v2: 5.0\n",
      "Magnitude of v3: 3.0\n",
      "Unit vector for v3: [0.33333333 0.66666667 0.66666667]\n",
      "a + b = [4 3]\n",
      "a - b = [-2  1]\n",
      "Dot product a·b: 5\n",
      "Angle (degrees): 45.00000000000001\n",
      "Are u and v orthogonal? True\n",
      "Scalar projection of v on u: 3.0\n",
      "Vector projection of v on u: [3. 0.]\n"
     ]
    }
   ],
   "source": [
    "# Create 2D and 3D vectors\n",
    "v2 = np.array([3, 4])\n",
    "v3 = np.array([1, 2, 2])\n",
    "\n",
    "# Magnitude (norm)\n",
    "mag_v2 = np.linalg.norm(v2)\n",
    "print(\"Magnitude of v2:\", mag_v2)\n",
    "\n",
    "mag_v3 = np.linalg.norm(v3)\n",
    "print(\"Magnitude of v3:\", mag_v3)\n",
    "\n",
    "# Unit vector\n",
    "unit_v3 = v3 / np.linalg.norm(v3)\n",
    "print(\"Unit vector for v3:\", unit_v3)\n",
    "\n",
    "# Vector addition and subtraction\n",
    "a = np.array([1, 2])\n",
    "b = np.array([3, 1])\n",
    "print(\"a + b =\", a + b)\n",
    "print(\"a - b =\", a - b)\n",
    "\n",
    "# Dot product\n",
    "dp = np.dot(a, b)\n",
    "print(\"Dot product a·b:\", dp)\n",
    "\n",
    "# Angle between vectors\n",
    "cos_theta = np.dot(a, b) / (np.linalg.norm(a) * np.linalg.norm(b))\n",
    "theta = np.arccos(cos_theta) * 180/np.pi\n",
    "print(\"Angle (degrees):\", theta)\n",
    "\n",
    "# Orthogonality check\n",
    "u = np.array([1, 0])\n",
    "v = np.array([0, 1])\n",
    "print(\"Are u and v orthogonal?\", np.dot(u, v) == 0)\n",
    "\n",
    "# Scalar and vector projection\n",
    "v = np.array([3, 4])\n",
    "u = np.array([2, 0])\n",
    "scalar_proj = np.dot(v, u) / np.linalg.norm(u)\n",
    "vector_proj = scalar_proj * (u / np.linalg.norm(u))\n",
    "print(\"Scalar projection of v on u:\", scalar_proj)\n",
    "print(\"Vector projection of v on u:\", vector_proj)\n"
   ]
  },
  {
   "cell_type": "markdown",
   "id": "c3ebc97c",
   "metadata": {},
   "source": [
    "#### **Exercises:**"
   ]
  },
  {
   "cell_type": "code",
   "execution_count": 15,
   "id": "b3b07ed6",
   "metadata": {},
   "outputs": [
    {
     "name": "stdout",
     "output_type": "stream",
     "text": [
      "3.7416573867739413\n"
     ]
    }
   ],
   "source": [
    "# EX1: Create a 3D vector and compute its magnitude\n",
    "v3 = np.array([1,2,3])\n",
    "mgnitude = np.linalg.norm(v3)\n",
    "print(mgnitude)\n"
   ]
  },
  {
   "cell_type": "code",
   "execution_count": 16,
   "id": "5e07b0af",
   "metadata": {},
   "outputs": [
    {
     "data": {
      "text/plain": [
       "True"
      ]
     },
     "execution_count": 16,
     "metadata": {},
     "output_type": "execute_result"
    }
   ],
   "source": [
    "# EX2: Given [2, 1] and [1, -2], check if they're orthogonal\n",
    "v1 = np.array([2, 1])\n",
    "v3 = np.array([1, -2])\n",
    "\n",
    "np.dot(v1, v3) == 0"
   ]
  },
  {
   "cell_type": "code",
   "execution_count": null,
   "id": "b956c3d0",
   "metadata": {},
   "outputs": [],
   "source": [
    "# EX3: Compute dot product and angle between [1,2] and [2,1]\n"
   ]
  },
  {
   "cell_type": "markdown",
   "id": "e0dc7c7f",
   "metadata": {},
   "source": [
    "## 3. Gram-Schmidt Orthogonalization\n",
    "- Two vectors (u, v)\n",
    "- Three vectors (u, v, w)"
   ]
  },
  {
   "cell_type": "code",
   "execution_count": null,
   "id": "15c47038",
   "metadata": {},
   "outputs": [],
   "source": [
    "# Gram-Schmidt for two vectors\n",
    "u = np.array([1, 2])\n",
    "v = np.array([2, 1])\n",
    "u_hat = u\n",
    "proj = (np.dot(v, u_hat) / np.dot(u_hat, u_hat)) * u_hat\n",
    "v_hat = v - proj\n",
    "print(\"u_hat:\", u_hat)\n",
    "print(\"v_hat (orthogonal to u):\", v_hat)\n"
   ]
  },
  {
   "cell_type": "markdown",
   "id": "b3f5b3e7",
   "metadata": {},
   "source": [
    "#### **Exercises:**"
   ]
  },
  {
   "cell_type": "code",
   "execution_count": null,
   "id": "f3f793ab",
   "metadata": {},
   "outputs": [],
   "source": [
    "# EX1: Apply Gram-Schmidt to [1,1,0] and [1,0,1]\n"
   ]
  },
  {
   "cell_type": "code",
   "execution_count": null,
   "id": "a8238e34",
   "metadata": {},
   "outputs": [],
   "source": [
    "# EX2: Orthogonalize [2,3] and [4,5]\n"
   ]
  },
  {
   "cell_type": "code",
   "execution_count": null,
   "id": "2af0287c",
   "metadata": {},
   "outputs": [],
   "source": [
    "# EX3: Gram-Schmidt on three vectors: [1,0,0], [1,1,0], [1,1,1]\n"
   ]
  }
 ],
 "metadata": {
  "kernelspec": {
   "display_name": "base",
   "language": "python",
   "name": "python3"
  },
  "language_info": {
   "codemirror_mode": {
    "name": "ipython",
    "version": 3
   },
   "file_extension": ".py",
   "mimetype": "text/x-python",
   "name": "python",
   "nbconvert_exporter": "python",
   "pygments_lexer": "ipython3",
   "version": "3.12.7"
  }
 },
 "nbformat": 4,
 "nbformat_minor": 5
}
