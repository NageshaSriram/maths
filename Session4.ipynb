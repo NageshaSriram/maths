{
 "cells": [
  {
   "cell_type": "code",
   "execution_count": null,
   "id": "64606649",
   "metadata": {},
   "outputs": [],
   "source": [
    "# Find the SVD for [[4 0], [3, -5]]"
   ]
  },
  {
   "cell_type": "code",
   "execution_count": 2,
   "id": "fd081274",
   "metadata": {},
   "outputs": [
    {
     "name": "stdout",
     "output_type": "stream",
     "text": [
      "U matrix:\n",
      " [[-0.4472136  -0.89442719]\n",
      " [-0.89442719  0.4472136 ]]\n",
      "Singular values: [6.32455532 3.16227766]\n",
      "VT matrix:\n",
      " [[-0.70710678  0.70710678]\n",
      " [-0.70710678 -0.70710678]]\n"
     ]
    }
   ],
   "source": [
    "'''\n",
    "Here’s how you can find the Singular Value Decomposition (SVD) for the matrix [[4, 0], [3, -5]] using NumPy:\n",
    "'''\n",
    "\n",
    "import numpy as np\n",
    "\n",
    "A = np.array([[4, 0], [3, -5]])\n",
    "U, S, VT = np.linalg.svd(A)\n",
    "\n",
    "print(\"U matrix:\\n\", U)\n",
    "print(\"Singular values:\", S)\n",
    "print(\"VT matrix:\\n\", VT)"
   ]
  },
  {
   "cell_type": "code",
   "execution_count": null,
   "id": "9ad56423",
   "metadata": {},
   "outputs": [],
   "source": []
  }
 ],
 "metadata": {
  "kernelspec": {
   "display_name": "base",
   "language": "python",
   "name": "python3"
  },
  "language_info": {
   "codemirror_mode": {
    "name": "ipython",
    "version": 3
   },
   "file_extension": ".py",
   "mimetype": "text/x-python",
   "name": "python",
   "nbconvert_exporter": "python",
   "pygments_lexer": "ipython3",
   "version": "3.12.7"
  }
 },
 "nbformat": 4,
 "nbformat_minor": 5
}
